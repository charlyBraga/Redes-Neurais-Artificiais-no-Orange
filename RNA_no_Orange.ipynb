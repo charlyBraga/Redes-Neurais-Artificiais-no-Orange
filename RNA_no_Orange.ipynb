{
  "nbformat": 4,
  "nbformat_minor": 0,
  "metadata": {
    "colab": {
      "name": "RNA no Orange.ipynb",
      "provenance": [],
      "collapsed_sections": []
    },
    "kernelspec": {
      "name": "python3",
      "display_name": "Python 3"
    },
    "language_info": {
      "name": "python"
    }
  },
  "cells": [
    {
      "cell_type": "code",
      "metadata": {
        "id": "vxwI0R1iL1t7"
      },
      "source": [
        "!pip install Orange3"
      ],
      "execution_count": null,
      "outputs": []
    },
    {
      "cell_type": "code",
      "metadata": {
        "colab": {
          "base_uri": "https://localhost:8080/"
        },
        "id": "fqLw4RKTLl6q",
        "outputId": "bd0555e4-8316-41a7-a1dd-0d5c69e63a3b"
      },
      "source": [
        "import Orange\n",
        "import pickle\n",
        "\n",
        "model = pickle.load(open(\"model.pkcls\", \"rb\"))\n",
        "print(model)\n"
      ],
      "execution_count": null,
      "outputs": [
        {
          "output_type": "stream",
          "text": [
            "SklModelClassification(skl_model=MLPClassifierWCallback(activation='tanh', alpha=3, batch_size='auto',\n",
            "                       beta_1=0.9, beta_2=0.999, early_stopping=False,\n",
            "                       epsilon=1e-08, hidden_layer_sizes=(100,),\n",
            "                       learning_rate='constant', learning_rate_init=0.001,\n",
            "                       max_fun=15000, max_iter=200, momentum=0.9,\n",
            "                       n_iter_no_change=10, nesterovs_momentum=True,\n",
            "                       power_t=0.5, random_state=1, shuffle=True, solver='adam',\n",
            "                       tol=0.0001, validation_fraction=0.1, verbose=False,\n",
            "                       warm_start=False))  # params={'hidden_layer_sizes': (100,), 'activation': 'tanh', 'solver': 'adam', 'alpha': 3, 'batch_size': 'auto', 'learning_rate': 'constant', 'learning_rate_init': 0.001, 'power_t': 0.5, 'max_iter': 200, 'shuffle': True, 'random_state': 1, 'tol': 0.0001, 'verbose': False, 'warm_start': False, 'momentum': 0.9, 'nesterovs_momentum': True, 'early_stopping': False, 'validation_fraction': 0.1, 'beta_1': 0.9, 'beta_2': 0.999, 'epsilon': 1e-08}\n"
          ],
          "name": "stdout"
        },
        {
          "output_type": "stream",
          "text": [
            "/usr/local/lib/python3.7/dist-packages/sklearn/base.py:318: UserWarning: Trying to unpickle estimator LabelBinarizer from version 0.24.2 when using version 0.22.2.post1. This might lead to breaking code or invalid results. Use at your own risk.\n",
            "  UserWarning)\n"
          ],
          "name": "stderr"
        }
      ]
    }
  ]
}